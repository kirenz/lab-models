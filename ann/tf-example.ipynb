{
 "cells": [
  {
   "cell_type": "markdown",
   "metadata": {
    "slideshow": {
     "slide_type": "slide"
    }
   },
   "source": [
    "# TensorFlow Example\n",
    "\n",
    "\n",
    "<img src=\"https://www.tensorflow.org/site-assets/images/marketing/home/model.svg\">\n",
    "\n",
    "<sub>*Photo credit: TensorFlow*<sub>  "
   ]
  },
  {
   "cell_type": "markdown",
   "metadata": {
    "slideshow": {
     "slide_type": "slide"
    }
   },
   "source": [
    "[![Intro to Machine Learning](https://img.youtube.com/vi/KNAWp2S3w94/0.jpg)](https://www.youtube.com/watch?v=KNAWp2S3w94 \"Intro to Machine Learning\")  \n",
    "*This tutorial is based on Lawrence Moroney's excellent video tutorial [Intro to Machine Learning](https://www.youtube.com/watch?v=KNAWp2S3w94).*"
   ]
  },
  {
   "cell_type": "markdown",
   "metadata": {
    "slideshow": {
     "slide_type": "slide"
    }
   },
   "source": [
    "- First of all, we create some data in Python. \n",
    "- In particular, we create two variables *x* and *y* with 6 values respectively. \n",
    "\n",
    "A Python library called **NumPy** provides lots of array type data structures to do this. \n",
    "\n",
    "1. Import the library ``numpy`` as ``np`` and \n",
    "2. specify the values for *x* and *y* as an array in NumPy with ``np.array[]``. We use datatype *float*."
   ]
  },
  {
   "cell_type": "code",
   "execution_count": null,
   "metadata": {
    "slideshow": {
     "slide_type": "fragment"
    }
   },
   "outputs": [],
   "source": [
    "# Create some data\n",
    "import numpy as np\n",
    "\n",
    "x = np.array([-1.0, 0.0, 1.0, 2.0, 3.0, 4.0], dtype=float)\n",
    "y = np.array([-2.0, 1.0, 4.0, 7.0, 10.0, 13.0], dtype=float)"
   ]
  },
  {
   "cell_type": "markdown",
   "metadata": {
    "slideshow": {
     "slide_type": "slide"
    }
   },
   "source": [
    "Now let's take a look at the numbers.  \n",
    "Can you see the relationship between them?\n",
    "\n",
    "\n",
    "| Variable   | Value 1   | Value 2   | Value 3   | Value 4   | Value 5   | Value 6  |\n",
    "|---|---|---|---|---|---|---|\n",
    "| x | -1 | 0 | 1 | 2 | 3 | 4 |\n",
    "| y | -2 | 1 | 4 | 7 | 10 | 13 |"
   ]
  },
  {
   "attachments": {},
   "cell_type": "markdown",
   "metadata": {
    "slideshow": {
     "slide_type": "notes"
    }
   },
   "source": [
    "As you look at them, you might notice that the value of x is increasing by 1 as you read left to right and the corresponding value of y is increasing by 3. \n",
    "You probably think that y equals 3 times x plus or minus something. Then, you'd probably look at the 0 on x and see that y is 1, and you'd come up with the relationship: \n",
    "\n",
    "$y = 3x + 1.$\n",
    "\n",
    "That's almost exactly how you would use code to train a model to spot the patterns in the data! How would you train a neural network to do the equivalent task? By feeding it with your set of x's and y's, it should be able to figure out the relationship between them."
   ]
  },
  {
   "cell_type": "markdown",
   "metadata": {
    "slideshow": {
     "slide_type": "slide"
    }
   },
   "source": [
    "\n",
    "# Neural Network\n",
    "\n",
    "- We import **TensorFlow** and calling it ``tf`` for ease of use. \n",
    "- The framework for defining a neural network as a set of sequential layers is called ``keras``, so import that, too."
   ]
  },
  {
   "cell_type": "code",
   "execution_count": null,
   "metadata": {
    "slideshow": {
     "slide_type": "fragment"
    }
   },
   "outputs": [],
   "source": [
    "# Import TensorFlow and Keras \n",
    "import tensorflow as tf\n",
    "from tensorflow import keras\n",
    "\n",
    "print(f\"TensorFlow version {tf.__version__}\")"
   ]
  },
  {
   "cell_type": "markdown",
   "metadata": {
    "slideshow": {
     "slide_type": "slide"
    }
   },
   "source": [
    "## Define and compile the neural network\n",
    "\n",
    "First, we create the simplest possible neural network:\n",
    "\n",
    "- it has one layer (``keras.layers.Dense()``), \n",
    "- that layer has one neuron (``units=1``), \n",
    "- and the input shape to it is only one value (``input_shape=[1]``)."
   ]
  },
  {
   "cell_type": "code",
   "execution_count": null,
   "metadata": {
    "slideshow": {
     "slide_type": "fragment"
    }
   },
   "outputs": [],
   "source": [
    "# Define neural network\n",
    "\n",
    "model = tf.keras.Sequential([\n",
    "    keras.layers.Dense(units=1, input_shape=[1])])"
   ]
  },
  {
   "cell_type": "markdown",
   "metadata": {
    "slideshow": {
     "slide_type": "slide"
    }
   },
   "source": [
    "- Next, we write the code to ``compile`` your neural network. \n",
    "- When you do so, you need to specify two functions:  \n",
    "\n",
    "  - an ``optimizer`` and\n",
    "  - a ``loss`` function.\n",
    "\n",
    "\n",
    "- We use **mean_squared_error** for the loss and **stochastic gradient descent (sgd)** for the optimizer.   \n",
    "- You don't need to understand the math for those yet, but you can see that they work!"
   ]
  },
  {
   "cell_type": "code",
   "execution_count": null,
   "metadata": {
    "slideshow": {
     "slide_type": "fragment"
    }
   },
   "outputs": [],
   "source": [
    "# Compile neural network\n",
    "\n",
    "model.compile(optimizer='sgd', \n",
    "             loss='mean_squared_error')"
   ]
  },
  {
   "cell_type": "markdown",
   "metadata": {
    "slideshow": {
     "slide_type": "notes"
    }
   },
   "source": [
    "In this example, you know that the relationship between the numbers is $y=3x+1$. \n",
    "\n",
    "1. When the computer is trying to learn that, it makes a guess, maybe $y=10x+10$. \n",
    "2. The **loss** function measures the guessed answers against the known correct answers and measures how well or badly it did.\n",
    "3. Next, the model uses the **optimizer** function to make another guess. \n",
    "4. Based on the **loss** function's result, it tries to minimize the loss. At this point, maybe it will come up with something like $y=5x+5$. While that's still pretty bad, it's closer to the correct result (the loss is lower).\n",
    "5. The model repeats that for the number of **epochs**, which you'll see shortly.\n",
    "\n",
    "Now you have all the code you need to define the neural network. The next step is to train it to see if it can infer the patterns between those numbers and use them to create a model."
   ]
  },
  {
   "cell_type": "markdown",
   "metadata": {
    "slideshow": {
     "slide_type": "notes"
    }
   },
   "source": [
    "## Train the neural network\n",
    "\n",
    "The process of training the neural network, where it learns the relationship between the x's and y's, is in the ``model.fit`` call. That's where it will go through the loop before making a guess, measuring how good or bad it is (the loss), or using the optimizer to make another guess. It will do that for the number of **epochs** that you specify. \n",
    "\n",
    "When you run that code, you'll see the loss will be printed out for each epoch. \n",
    "\n",
    "For example, you can see that for the first few epochs, the loss value is quite large, but it's getting smaller with each step. As the training progresses, the loss soon gets very small.\n",
    "By the time the training is done, the loss is extremely small, showing that our model is doing a great job of inferring the relationship between the numbers.\n"
   ]
  },
  {
   "cell_type": "code",
   "execution_count": null,
   "metadata": {
    "slideshow": {
     "slide_type": "slide"
    }
   },
   "outputs": [],
   "source": [
    "# Train neural network\n",
    "\n",
    "model.fit(x, y, epochs=50)"
   ]
  },
  {
   "cell_type": "markdown",
   "metadata": {
    "slideshow": {
     "slide_type": "notes"
    }
   },
   "source": [
    "## Use the model\n",
    "\n",
    "You now have a model that has been trained to learn the relationship between x and y. You can use the ``model.predict`` method to have it figure out the y for a previously unknown x. \n",
    "\n",
    "For example, if x is 10, what do you think y will be? Take a guess before you run the following code:"
   ]
  },
  {
   "cell_type": "code",
   "execution_count": null,
   "metadata": {
    "slideshow": {
     "slide_type": "slide"
    }
   },
   "outputs": [],
   "source": [
    "# Make a prediction\n",
    "\n",
    "print(model.predict([10.0]))"
   ]
  },
  {
   "cell_type": "markdown",
   "metadata": {
    "slideshow": {
     "slide_type": "notes"
    }
   },
   "source": [
    "You might have thought 31, but it ended up not exactly there.  Why do you think that is?\n",
    "\n",
    "Neural networks deal with probabilities, so it calculated that there is a very high probability that the relationship between x and y is $y=3x+1$, but it can't know for sure with only six data points. Therefore, the result is very close to 31, but not necessarily 31.\n",
    "\n",
    "As you work with neural networks, you'll see that pattern recurring. You will almost always deal with probabilities, not certainties, and will do a little bit of coding to figure out what the result is based on the probabilities.\n",
    "\n",
    "---"
   ]
  },
  {
   "cell_type": "markdown",
   "metadata": {},
   "source": [
    "## Summary"
   ]
  },
  {
   "cell_type": "code",
   "execution_count": null,
   "metadata": {
    "slideshow": {
     "slide_type": "slide"
    }
   },
   "outputs": [],
   "source": [
    "# Import modules\n",
    "import numpy as np\n",
    "import tensorflow as tf\n",
    "from tensorflow import keras\n",
    "\n",
    "# Create some data\n",
    "x = np.array([-1.0, 0.0, 1.0, 2.0, 3.0, 4.0], dtype=float)\n",
    "y = np.array([-2.0, 1.0, 4.0, 7.0, 10.0, 13.0], dtype=float)\n",
    "\n",
    "# Model definition\n",
    "model = tf.keras.Sequential([\n",
    "    keras.layers.Dense(units=1, input_shape=[1])])\n",
    "\n",
    "# Compile model\n",
    "model.compile(optimizer='sgd', \n",
    "              loss='mean_squared_error')\n",
    "\n",
    "# Model fitting\n",
    "model.fit(x, y, epochs=50, verbose=0)\n",
    "\n",
    "# Model prediction\n",
    "print(model.predict([10.0]))"
   ]
  }
 ],
 "metadata": {
  "celltoolbar": "Slideshow",
  "kernelspec": {
   "display_name": "tf",
   "language": "python",
   "name": "python3"
  },
  "language_info": {
   "codemirror_mode": {
    "name": "ipython",
    "version": 3
   },
   "file_extension": ".py",
   "mimetype": "text/x-python",
   "name": "python",
   "nbconvert_exporter": "python",
   "pygments_lexer": "ipython3",
   "version": "3.10.10"
  },
  "rise": {
   "enable_chalkboard": true
  },
  "varInspector": {
   "cols": {
    "lenName": 16,
    "lenType": 16,
    "lenVar": 40
   },
   "kernels_config": {
    "python": {
     "delete_cmd_postfix": "",
     "delete_cmd_prefix": "del ",
     "library": "var_list.py",
     "varRefreshCmd": "print(var_dic_list())"
    },
    "r": {
     "delete_cmd_postfix": ") ",
     "delete_cmd_prefix": "rm(",
     "library": "var_list.r",
     "varRefreshCmd": "cat(var_dic_list()) "
    }
   },
   "types_to_exclude": [
    "module",
    "function",
    "builtin_function_or_method",
    "instance",
    "_Feature"
   ],
   "window_display": false
  },
  "vscode": {
   "interpreter": {
    "hash": "09dae4df73b471858248f7b697ec2bb8ee523eef7d0b410e464ff3946da6c31d"
   }
  }
 },
 "nbformat": 4,
 "nbformat_minor": 4
}
